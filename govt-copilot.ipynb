{
 "cells": [
  {
   "cell_type": "code",
   "execution_count": 3,
   "metadata": {},
   "outputs": [
    {
     "name": "stderr",
     "output_type": "stream",
     "text": [
      "/Users/31treehaus/opt/anaconda3/envs/ml/lib/python3.9/site-packages/pinecone/index.py:4: TqdmExperimentalWarning: Using `tqdm.autonotebook.tqdm` in notebook mode. Use `tqdm.tqdm` instead to force console mode (e.g. in jupyter console)\n",
      "  from tqdm.autonotebook import tqdm\n"
     ]
    }
   ],
   "source": [
    "import os\n",
    "import re\n",
    "import time\n",
    "import pypdf\n",
    "import pickledb\n",
    "import pinecone \n",
    "import pandas as pd\n",
    "import streamlit as st\n",
    "from langchain.llms import OpenAI\n",
    "from langchain.llms import OpenAIChat\n",
    "from langchain.chains import VectorDBQA\n",
    "from langchain.vectorstores import FAISS\n",
    "from langchain.vectorstores import Pinecone\n",
    "from langchain import GoogleSearchAPIWrapper\n",
    "from langchain.agents import initialize_agent, Tool\n",
    "from langchain.embeddings.openai import OpenAIEmbeddings\n",
    "from langchain.chains.question_answering import load_qa_chain"
   ]
  },
  {
   "cell_type": "code",
   "execution_count": 4,
   "metadata": {},
   "outputs": [
    {
     "data": {
      "text/plain": [
       "['sf-building-code', 'sf-planning-code']"
      ]
     },
     "execution_count": 4,
     "metadata": {},
     "output_type": "execute_result"
    }
   ],
   "source": [
    "papers  = [l.split('.')[0] for l in os.listdir(\"Documents/\") if l.endswith('.pdf')]\n",
    "papers"
   ]
  },
  {
   "cell_type": "code",
   "execution_count": 6,
   "metadata": {},
   "outputs": [],
   "source": [
    "def split_pdf(name,chunk_chars=4000,overlap=50):\n",
    "    \"\"\"\n",
    "    Pre-process PDF into chunks\n",
    "    Some code from: https://github.com/whitead/paper-qa/blob/main/paperqa/readers.py\n",
    "    \"\"\"\n",
    "\n",
    "    pat = \"SECTION\"\n",
    "    pdfFileObj = open(\"Documents/%s.pdf\"%name, \"rb\")\n",
    "    pdfReader = pypdf.PdfReader(pdfFileObj)\n",
    "    splits = []\n",
    "    split = \"\"\n",
    "    metadatas = []\n",
    "    pages = []\n",
    "    section = \"\"\n",
    "    for i, page in enumerate(pdfReader.pages):\n",
    "        pages.append(str(i + 1))\n",
    "        split += page.extract_text()\n",
    "        if len(split) > chunk_chars:\n",
    "            splits.append(split[:chunk_chars])\n",
    "            split = split[chunk_chars - overlap:]\n",
    "            result = re.findall(\"%s\\s[\\d]{3}.\"%pat, split[:chunk_chars])\n",
    "            if result:\n",
    "                section = result[0]\n",
    "            metadatas.append(name+\" : %s\"%section)\n",
    "    pdfFileObj.close()\n",
    "    return splits,metadatas\n",
    "\n",
    "name = \"sf-building-code\"\n",
    "docs_building_code,metadatas_building_code=split_pdf(name,chunk_chars=4000)\n",
    "name = \"sf-planning-code\"\n",
    "docs_planning_code,metadatas_planning_code=split_pdf(name,chunk_chars=4000)"
   ]
  },
  {
   "attachments": {},
   "cell_type": "markdown",
   "metadata": {},
   "source": [
    "`index`\n",
    "\n",
    "* note: embeddings used to generate index must be consistent w/ those used w/ the query! \n",
    "* e.g., Pinecone generated w/ `HuggingFaceEmbeddings()`"
   ]
  },
  {
   "cell_type": "code",
   "execution_count": 5,
   "metadata": {},
   "outputs": [],
   "source": [
    "# Embeddings\n",
    "embeddings = OpenAIEmbeddings()\n",
    "# embeddings = HuggingFaceEmbeddings()\n",
    " \n",
    "# Pinecone\n",
    "pinecone.init(\n",
    "    api_key=\"xxx\",  # find at app.pinecone.io\n",
    "    environment=\"xxx\"  # next to api key in console\n",
    ")\n",
    "index_name = \"sf-building-codes\"\n",
    "\n",
    "# Write DB\n",
    "# docsearch_sf_building_pinecone = Pinecone.from_texts(docs_building_code, embeddings, index_name=index_name)\n",
    "\n",
    "# Read DB\n",
    "docsearch_sf_building_pinecone = Pinecone.from_existing_index(index_name=index_name,embedding=embeddings)"
   ]
  },
  {
   "cell_type": "code",
   "execution_count": 7,
   "metadata": {},
   "outputs": [
    {
     "name": "stderr",
     "output_type": "stream",
     "text": [
      "2023-03-01 19:06:05.979 INFO    faiss.loader: Loading faiss.\n",
      "2023-03-01 19:06:05.991 INFO    faiss.loader: Successfully loaded faiss.\n"
     ]
    }
   ],
   "source": [
    "# FAISS\n",
    "docsearch_sf_building_faiss = FAISS.from_texts(docs_building_code, embeddings)\n",
    "docsearch_sf_planning_faiss = FAISS.from_texts(docs_planning_code, embeddings)"
   ]
  },
  {
   "attachments": {},
   "cell_type": "markdown",
   "metadata": {},
   "source": [
    "`building codes`"
   ]
  },
  {
   "cell_type": "code",
   "execution_count": 18,
   "metadata": {},
   "outputs": [],
   "source": [
    "query = \"At what size do I need a permit for a storage shed in my backyard? In what section can I find this information in the building code?\""
   ]
  },
  {
   "cell_type": "code",
   "execution_count": 16,
   "metadata": {},
   "outputs": [
    {
     "name": "stdout",
     "output_type": "stream",
     "text": [
      "--Pinecode building code, stuff chain --\n",
      " You do not need a building permit for a one-story detached accessory building or structure used as a tool and storage shed, playhouse, or similar use, provided the projected roof area does not exceed 100 square feet (9.29 m2). This information can be found in Section 106A.1.10.1 of the Building Code.\n"
     ]
    }
   ],
   "source": [
    "print(\"--Pinecode building code, stuff chain --\")\n",
    "llm = OpenAI(temperature=0)\n",
    "chain_pinecone_building = VectorDBQA.from_chain_type(llm, chain_type=\"stuff\", vectorstore=docsearch_sf_building_pinecone)\n",
    "print(chain_pinecone_building.run(query))"
   ]
  },
  {
   "cell_type": "code",
   "execution_count": 19,
   "metadata": {},
   "outputs": [
    {
     "name": "stdout",
     "output_type": "stream",
     "text": [
      "--Pinecode building code, stuff chain, chat GPT --\n",
      "You would need a permit for a storage shed in your backyard if the projected roof area exceeds 100 square feet (9.29 m2). This information can be found in Section 106A.1.1 of the building code.\n"
     ]
    }
   ],
   "source": [
    "print(\"--Pinecode building code, stuff chain, chat GPT --\")\n",
    "llm = OpenAIChat(temperature=0)\n",
    "chain_pinecone_building_cgpt = VectorDBQA.from_chain_type(llm, chain_type=\"stuff\", vectorstore=docsearch_sf_building_pinecone)\n",
    "print(chain_pinecone_building_cgpt.run(query))"
   ]
  },
  {
   "attachments": {},
   "cell_type": "markdown",
   "metadata": {},
   "source": [
    "`planning codes` - "
   ]
  },
  {
   "cell_type": "code",
   "execution_count": 36,
   "metadata": {},
   "outputs": [
    {
     "name": "stdout",
     "output_type": "stream",
     "text": [
      "--FAISS planning, refine chain--\n"
     ]
    },
    {
     "data": {
      "application/vnd.jupyter.widget-view+json": {
       "model_id": "b4b9d963ef4842d8ae9ac86083b1c2b3",
       "version_major": 2,
       "version_minor": 0
      },
      "text/plain": [
       "Batches:   0%|          | 0/1 [00:00<?, ?it/s]"
      ]
     },
     "metadata": {},
     "output_type": "display_data"
    },
    {
     "name": "stdout",
     "output_type": "stream",
     "text": [
      " The limits upon the floor area ratio of buildings, as defined by this Code, shall be as stated in this Section and Sections 124 through 128.1. The maximum floor area ratio for any building or development shall be equal to the sum of the basic floor area ratio for the district, as set forth in Section 124, plus any premiums and floor area transfers which are applicable to such building or development under Sections 125, 127, 128 and 128.1 and as restricted by the provisions of Sections 123(c) and (d) and 124(b) and (j).\n"
     ]
    }
   ],
   "source": [
    "print(\"--FAISS planning, map_reduce chain--\")\n",
    "query = \"What size of greenhouse or shed is permitted in a backyard?\"\n",
    "query = \"What are the limits upon the floor area ratio of buildings?\"\n",
    "chain_faiss_planning = VectorDBQA.from_chain_type(OpenAI(temperature=0), chain_type=\"map_reduce\", vectorstore=docsearch_sf_planning_faiss)\n",
    "print(chain_faiss_planning.run(query))"
   ]
  },
  {
   "cell_type": "code",
   "execution_count": 38,
   "metadata": {},
   "outputs": [
    {
     "data": {
      "application/vnd.jupyter.widget-view+json": {
       "model_id": "00f183d70825469c970688ca79f0e3b2",
       "version_major": 2,
       "version_minor": 0
      },
      "text/plain": [
       "Batches:   0%|          | 0/1 [00:00<?, ?it/s]"
      ]
     },
     "metadata": {},
     "output_type": "display_data"
    },
    {
     "name": "stdout",
     "output_type": "stream",
     "text": [
      " The limits upon the floor area ratio of buildings, as defined by this Code, are stated in Sections 124 through 128.1. The maximum floor area ratio for any building or development shall be equal to the sum of the basic floor area ratio for the district, as set forth in Section 124, plus any premiums and floor area transfers which are applicable to such building or development under Sections 125, 127, 128 and 128.1 and as restricted by the provisions of Sections 123(c) and (d) and 124(b) and (j).\n"
     ]
    }
   ],
   "source": [
    "faiss_simserch = docsearch_sf_planning_faiss.similarity_search(query, k=3)\n",
    "chain = load_qa_chain(OpenAI(temperature=0.0), chain_type=\"map_reduce\")\n",
    "print(chain.run(input_documents=faiss_simserch, question=query))"
   ]
  },
  {
   "attachments": {},
   "cell_type": "markdown",
   "metadata": {},
   "source": [
    "`agent` - "
   ]
  },
  {
   "cell_type": "code",
   "execution_count": 12,
   "metadata": {},
   "outputs": [
    {
     "name": "stderr",
     "output_type": "stream",
     "text": [
      "2023-03-01 21:06:04.333 INFO    googleapiclient.discovery_cache: file_cache is only supported with oauth2client<4.0.0\n"
     ]
    }
   ],
   "source": [
    "search = GoogleSearchAPIWrapper()\n",
    "tools = [\n",
    "    Tool(\n",
    "        name = \"SF Building Codes QA System\",\n",
    "        func=chain_pinecone_building_cgpt.run,\n",
    "        description=\"Useful for when you need to answer questions about building anything in San Francisco. Input should be a fully formed question.\"\n",
    "    ),    \n",
    "    Tool(name= \"Google\",\n",
    "         func=search.run,\n",
    "         description=\"Google search is useful if you need to answer a question about products to purchase.\"\n",
    "    )\n",
    "]"
   ]
  },
  {
   "cell_type": "code",
   "execution_count": 13,
   "metadata": {},
   "outputs": [],
   "source": [
    "# llm = OpenAI(temperature=0)\n",
    "llm = OpenAIChat(temperature=0)\n",
    "agent = initialize_agent(tools, llm, agent=\"zero-shot-react-description\", verbose=True)"
   ]
  },
  {
   "cell_type": "code",
   "execution_count": 14,
   "metadata": {},
   "outputs": [
    {
     "name": "stdout",
     "output_type": "stream",
     "text": [
      "\n",
      "\n",
      "\u001b[1m> Entering new AgentExecutor chain...\u001b[0m\n",
      "\u001b[32;1m\u001b[1;3mI need to find out the size limit for a storage shed without a permit and then search for sheds that are smaller than that size.\n",
      "Action: SF Building Codes QA System\n",
      "Action Input: \"What is the size limit for a storage shed without a permit in San Francisco?\"\n",
      "\u001b[0m\n",
      "Observation: \u001b[36;1m\u001b[1;3mThe size limit for a storage shed without a permit in San Francisco is 100 square feet (9.29 m2).\u001b[0m\n",
      "Thought:\u001b[32;1m\u001b[1;3mNow that I know the size limit, I can search for sheds that are smaller than 100 square feet.\n",
      "Action: Google\n",
      "Action Input: \"Storage sheds smaller than 100 square feet\"\n",
      "\u001b[0m\n",
      "Observation: \u001b[33;1m\u001b[1;3mResults 1 - 24 of 279 ... Get free shipping on qualified Medium ( 36-101 sq. ft.) Sheds products or Buy Online Pick Up in Store today in the Storage ... A building permit is required for a new or replacement utility or storage shed larger than 100 square feet. Projects That Require Clearances or Other Permitting. May 19, 2022 ... ... storage sheds, playhouses and similar uses, if the projected roof area is less than 100 square feet (9.29 m2) and no taller than 8 feet. A small shed — 36 square feet or under — works well as a garden shed for the backyard. A medium shed of 37 square feet to 100 square feet can accommodate ... Sidewalk sheds must be removed immediately once construction, ... pounds per square foot for sheds without storage and buildings less than 100 feet high) ... DETACHED TOOL/STORAGE SHEDS & PLAYHOUSES if the projected floor area is greater than 120 square ... less than 100 square feet when it does not serve as a ... Dec 6, 2022 ... each 100 square feet of building area over 400 square feet. ... For lots less than 20 acres, the number of animals permitted shall comply ... They must be free-standing, detached, and less than 400 square feet. Accessories exempted by this rule include: Barns; Sheds; Utility buildings; Storage ... For a liquid which has a viscosity of less than 45 SUS at 100 °F (37.8 °C), ... any two flammable liquid storage tanks shall not be less than 3 feet. Nov 2, 2014 ... Just how many tiny houses of fewer than 300 square feet exist is not known because ... In fact, some tiny homes are converted garden sheds.\u001b[0m\n",
      "Thought:\u001b[32;1m\u001b[1;3mI need to filter the Google search results to only show sheds that are smaller than 100 square feet and suitable for backyard storage.\n",
      "Action: Google\n",
      "Action Input: \"Backyard storage sheds smaller than 100 square feet\"\n",
      "\u001b[0m\n",
      "Observation: \u001b[33;1m\u001b[1;3mResults 1 - 24 of 279 ... Get free shipping on qualified Medium ( 36-101 sq. ft.) Sheds products or Buy Online Pick Up in Store today in the Storage ... Large sheds are more than 100 square feet in size. ... $1,999 or Less ... A beige and brown small outdoor storage shed. Small Outdoor Storage. A building permit is required for a new or replacement utility or storage shed larger than 100 square feet. Projects That Require Clearances or Other Permitting. A small shed — 36 square feet or under — works well as a garden shed for the backyard. A medium shed of 37 square feet to 100 square feet can accommodate ... May 19, 2022 ... ... storage sheds, playhouses and similar uses, if the projected roof area is less than 100 square feet (9.29 m2) and no taller than 8 feet. For a 25,000 square foot zoning lot outside a predominantly built-up area of an R5 District, the owner is looking to construct two buildings of similar size ― ... For a liquid which has a viscosity of less than 45 SUS at 100 °F (37.8 °C), ... are released at a safe point outside of buildings and not less than 12 feet ... 15.14.100 Mobilehomes and manufactured housing. ... No more than 2 buildings per lot and no more than 200 sq/ft ground area per building. Portable tanks shall not be nearer than 20 feet from any building. ... nor more than 75 feet, from any flammable liquid storage area located outside. Structures less than 200 square feet may fall under our shed requirements ... Barns may not be used as a garage or as a storage shed for items not ...\u001b[0m\n",
      "Thought:\u001b[32;1m\u001b[1;3mI have found several options for backyard storage sheds that are smaller than 100 square feet and do not require a permit. \n",
      "Final Answer: The size limit for a storage shed without a permit in San Francisco is 100 square feet. There are many options for backyard storage sheds that are smaller than 100 square feet and do not require a permit, including small sheds under 36 square feet and medium sheds between 37 and 100 square feet.\u001b[0m\n",
      "\n",
      "\u001b[1m> Finished chain.\u001b[0m\n"
     ]
    },
    {
     "data": {
      "text/plain": [
       "'The size limit for a storage shed without a permit in San Francisco is 100 square feet. There are many options for backyard storage sheds that are smaller than 100 square feet and do not require a permit, including small sheds under 36 square feet and medium sheds between 37 and 100 square feet.'"
      ]
     },
     "execution_count": 14,
     "metadata": {},
     "output_type": "execute_result"
    }
   ],
   "source": [
    "query = \"At what size do I need a permit for a storage shed in my backyard? What sheds can I buy that are smaller than this size?\"\n",
    "agent.run(query)"
   ]
  }
 ],
 "metadata": {
  "kernelspec": {
   "display_name": "Python 3 (ipykernel)",
   "language": "python",
   "name": "python3"
  },
  "language_info": {
   "codemirror_mode": {
    "name": "ipython",
    "version": 3
   },
   "file_extension": ".py",
   "mimetype": "text/x-python",
   "name": "python",
   "nbconvert_exporter": "python",
   "pygments_lexer": "ipython3",
   "version": "3.9.16"
  },
  "orig_nbformat": 4
 },
 "nbformat": 4,
 "nbformat_minor": 2
}
